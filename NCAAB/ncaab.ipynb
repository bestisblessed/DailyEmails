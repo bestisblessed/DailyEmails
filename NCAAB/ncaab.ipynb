{
 "cells": [
  {
   "cell_type": "code",
   "execution_count": 2,
   "id": "786ac1ef",
   "metadata": {},
   "outputs": [],
   "source": [
    "import dropbox\n",
    "import requests\n",
    "import csv\n",
    "from dotenv import load_dotenv\n",
    "import os"
   ]
  },
  {
   "cell_type": "code",
   "execution_count": 5,
   "id": "c90a367c",
   "metadata": {},
   "outputs": [],
   "source": [
    "load_dotenv()\n",
    "access_token = os.getenv('ACCESS_TOKEN')\n",
    "api_key = os.getenv('API_KEY')"
   ]
  },
  {
   "cell_type": "code",
   "execution_count": 6,
   "id": "4f2c5d95",
   "metadata": {},
   "outputs": [
    {
     "name": "stdout",
     "output_type": "stream",
     "text": [
      "File deleted successfully from Dropbox.\n"
     ]
    }
   ],
   "source": [
    "# Delete file\n",
    "\n",
    "dbx = dropbox.Dropbox(access_token)\n",
    "\n",
    "# Path in your Dropbox where the file is located\n",
    "dropbox_file_path = '/MyFolder/ncaab_games.csv'\n",
    "\n",
    "# Delete the file\n",
    "dbx.files_delete_v2(dropbox_file_path)\n",
    "\n",
    "print(\"File deleted successfully from Dropbox.\")\n"
   ]
  },
  {
   "cell_type": "code",
   "execution_count": 7,
   "id": "3c142fbf",
   "metadata": {},
   "outputs": [],
   "source": [
    "# Get games\n",
    "\n",
    "url = \"https://api.the-odds-api.com/v4/sports/basketball_ncaab/odds\"\n",
    "params = {\n",
    "    'apiKey': api_key,\n",
    "    'regions': 'us',\n",
    "    'markets': 'h2h',\n",
    "}\n",
    "\n",
    "response = requests.get(url, params=params)\n",
    "\n",
    "if response.status_code == 200:\n",
    "    games = response.json()\n",
    "    with open('ncaab_games.csv', mode='w', newline='', encoding='utf-8') as file:\n",
    "        writer = csv.writer(file)\n",
    "        writer.writerow(['Away Team', 'Home Team', 'Start Time'])  # Header row\n",
    "        for game in games:\n",
    "            home_team = game.get('home_team', 'Unknown Home Team')\n",
    "            away_team = game.get('away_team', 'Unknown Away Team')\n",
    "            start_time = game.get('commence_time', 'Unknown Start Time')\n",
    "            writer.writerow([away_team, home_team, start_time])\n",
    "else:\n",
    "    print(\"Failed to retrieve NCAAB games data\")\n"
   ]
  },
  {
   "cell_type": "code",
   "execution_count": 8,
   "id": "35136488",
   "metadata": {},
   "outputs": [
    {
     "name": "stdout",
     "output_type": "stream",
     "text": [
      "File uploaded successfully to Dropbox.\n"
     ]
    }
   ],
   "source": [
    "# Upload file\n",
    "\n",
    "dbx = dropbox.Dropbox(access_token)\n",
    "\n",
    "# Local path to the CSV file you want to upload\n",
    "local_file_path = 'ncaab_games.csv'\n",
    "\n",
    "# Path in your Dropbox where you want the file to be uploaded\n",
    "dropbox_file_path = '/MyFolder/ncaab_games.csv'\n",
    "\n",
    "# Open the file and upload it\n",
    "with open(local_file_path, 'rb') as file:\n",
    "    dbx.files_upload(file.read(), dropbox_file_path, mode=dropbox.files.WriteMode.overwrite)\n",
    "\n",
    "print(\"File uploaded successfully to Dropbox.\")\n"
   ]
  },
  {
   "cell_type": "code",
   "execution_count": null,
   "id": "80d90ca0",
   "metadata": {},
   "outputs": [],
   "source": []
  }
 ],
 "metadata": {
  "kernelspec": {
   "display_name": "Python 3.12.1 (pyenv)",
   "language": "python",
   "name": "python3.12.1"
  },
  "language_info": {
   "codemirror_mode": {
    "name": "ipython",
    "version": 3
   },
   "file_extension": ".py",
   "mimetype": "text/x-python",
   "name": "python",
   "nbconvert_exporter": "python",
   "pygments_lexer": "ipython3",
   "version": "3.12.1"
  }
 },
 "nbformat": 4,
 "nbformat_minor": 5
}
